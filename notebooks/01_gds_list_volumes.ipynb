{
 "cells": [
  {
   "cell_type": "markdown",
   "metadata": {},
   "source": [
    "### Setup API Token"
   ]
  },
  {
   "cell_type": "markdown",
   "metadata": {},
   "source": [
    "First, setup API token (JWT token) either using CLI `ica tokens create --help`"
   ]
  },
  {
   "cell_type": "code",
   "execution_count": null,
   "metadata": {},
   "outputs": [],
   "source": [
    "ica_access_token = input(\"Enter your token: \")"
   ]
  },
  {
   "cell_type": "markdown",
   "metadata": {},
   "source": [
    "### Setup Base URL"
   ]
  },
  {
   "cell_type": "code",
   "execution_count": null,
   "metadata": {},
   "outputs": [],
   "source": [
    "ica_base_url = \"https://aps2.platform.illumina.com\""
   ]
  },
  {
   "cell_type": "markdown",
   "metadata": {},
   "source": [
    "### Setup client configuration object"
   ]
  },
  {
   "cell_type": "code",
   "execution_count": null,
   "metadata": {},
   "outputs": [],
   "source": [
    "from libica.openapi import libgds\n",
    "\n",
    "configuration = libgds.Configuration(\n",
    "    host=ica_base_url,\n",
    "    api_key={\n",
    "        'Authorization': ica_access_token\n",
    "    },\n",
    "    api_key_prefix={\n",
    "        'Authorization': \"Bearer\"\n",
    "    },\n",
    ")\n",
    "\n",
    "# configuration.debug = True"
   ]
  },
  {
   "cell_type": "markdown",
   "metadata": {},
   "source": [
    "### List volumes"
   ]
  },
  {
   "cell_type": "code",
   "execution_count": null,
   "metadata": {},
   "outputs": [],
   "source": [
    "with libgds.ApiClient(configuration) as api_client:\n",
    "\n",
    "    gds_api: libgds.VolumesApi = libgds.VolumesApi(api_client)\n",
    "    \n",
    "    try:\n",
    "        cnt: int = 1\n",
    "        page_token = None\n",
    "        while True:\n",
    "            vol_list: libgds.VolumeListResponse = gds_api.list_volumes(page_size=100, page_token=page_token)\n",
    "            # print(vol_list)\n",
    "            for item in vol_list.items:\n",
    "                vol: libgds.VolumeResponse = item\n",
    "                print(cnt, vol.id, vol.name)\n",
    "                cnt += 1\n",
    "            page_token = vol_list.next_page_token\n",
    "            if not vol_list.next_page_token:\n",
    "                break\n",
    "        # end while\n",
    "    except libgds.ApiException as e:\n",
    "        print(e)"
   ]
  },
  {
   "cell_type": "markdown",
   "metadata": {},
   "source": [
    "### SDK REF\n",
    "\n",
    "- https://umccr-illumina.github.io/libica/openapi/libgds/\n",
    "- https://umccr-illumina.github.io/libica/openapi/libgds/docs/VolumesApi/#list_volumes\n",
    "- https://umccr-illumina.github.io/libica/openapi/libgds/docs/VolumeListResponse/\n",
    "- https://umccr-illumina.github.io/libica/openapi/libgds/docs/VolumeResponse/\n",
    "- https://umccr-illumina.github.io/libica/libica/openapi/libgds/api/volumes_api.html"
   ]
  },
  {
   "cell_type": "code",
   "execution_count": null,
   "metadata": {},
   "outputs": [],
   "source": []
  }
 ],
 "metadata": {
  "kernelspec": {
   "display_name": "Python 3",
   "language": "python",
   "name": "python3"
  },
  "language_info": {
   "codemirror_mode": {
    "name": "ipython",
    "version": 3
   },
   "file_extension": ".py",
   "mimetype": "text/x-python",
   "name": "python",
   "nbconvert_exporter": "python",
   "pygments_lexer": "ipython3",
   "version": "3.8.5"
  }
 },
 "nbformat": 4,
 "nbformat_minor": 4
}