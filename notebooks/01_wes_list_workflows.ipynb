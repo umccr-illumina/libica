{
 "cells": [
  {
   "cell_type": "markdown",
   "metadata": {},
   "source": [
    "### Setup API Token"
   ]
  },
  {
   "cell_type": "markdown",
   "metadata": {},
   "source": [
    "First, setup API token (JWT token) either using CLI `ica tokens create --help`"
   ]
  },
  {
   "cell_type": "code",
   "execution_count": null,
   "metadata": {},
   "outputs": [],
   "source": [
    "ica_access_token = input(\"Enter your token: \")"
   ]
  },
  {
   "cell_type": "markdown",
   "metadata": {},
   "source": [
    "### Setup Base URL"
   ]
  },
  {
   "cell_type": "code",
   "execution_count": null,
   "metadata": {},
   "outputs": [],
   "source": [
    "ica_base_url = \"https://aps2.platform.illumina.com\""
   ]
  },
  {
   "cell_type": "markdown",
   "metadata": {},
   "source": [
    "### Setup client configuration object"
   ]
  },
  {
   "cell_type": "code",
   "execution_count": null,
   "metadata": {},
   "outputs": [],
   "source": [
    "from libica.openapi import libwes\n",
    "\n",
    "configuration = libwes.Configuration(\n",
    "    host=ica_base_url,\n",
    "    api_key={\n",
    "        'Authorization': ica_access_token\n",
    "    },\n",
    "    api_key_prefix={\n",
    "        'Authorization': \"Bearer\"\n",
    "    },\n",
    ")\n",
    "\n",
    "# configuration.debug = True"
   ]
  },
  {
   "cell_type": "markdown",
   "metadata": {},
   "source": [
    "### List workflows"
   ]
  },
  {
   "cell_type": "code",
   "execution_count": null,
   "metadata": {},
   "outputs": [],
   "source": [
    "with libwes.ApiClient(configuration) as api_client:\n",
    "\n",
    "    wfl_api: libwes.WorkflowsApi = libwes.WorkflowsApi(api_client)\n",
    "    \n",
    "    try:\n",
    "        cnt: int = 1\n",
    "        page_token = None\n",
    "        while True:\n",
    "            wfl_list: libwes.WorkflowList = wfl_api.list_workflows(page_size=100, page_token=page_token)\n",
    "            # print(wfl_list)\n",
    "            for item in wfl_list.items:\n",
    "                wfl: libwes.WorkflowCompact = item\n",
    "                print(cnt, wfl.id, wfl.name)\n",
    "                cnt += 1\n",
    "            page_token = wfl_list.next_page_token\n",
    "            if not wfl_list.next_page_token:\n",
    "                break\n",
    "        # end while\n",
    "    except ValueError as ve:\n",
    "        # known bug https://github.com/umccr-illumina/cwl-ica/issues/113\n",
    "        # print(str(ve))\n",
    "        # print(item)\n",
    "        pass\n",
    "    except libwes.ApiException as e:\n",
    "        print(e)"
   ]
  },
  {
   "cell_type": "markdown",
   "metadata": {},
   "source": [
    "### SDK REF\n",
    "\n",
    "- https://umccr-illumina.github.io/libica/openapi/libwes/\n",
    "- https://umccr-illumina.github.io/libica/openapi/libwes/docs/WorkflowsApi/#list_workflows\n",
    "- https://umccr-illumina.github.io/libica/openapi/libwes/docs/WorkflowList/\n",
    "- https://umccr-illumina.github.io/libica/openapi/libwes/docs/WorkflowCompact/\n",
    "- https://umccr-illumina.github.io/libica/libica/openapi/libwes/api/workflows_api.html"
   ]
  },
  {
   "cell_type": "code",
   "execution_count": null,
   "metadata": {},
   "outputs": [],
   "source": []
  }
 ],
 "metadata": {
  "kernelspec": {
   "display_name": "Python 3",
   "language": "python",
   "name": "python3"
  },
  "language_info": {
   "codemirror_mode": {
    "name": "ipython",
    "version": 3
   },
   "file_extension": ".py",
   "mimetype": "text/x-python",
   "name": "python",
   "nbconvert_exporter": "python",
   "pygments_lexer": "ipython3",
   "version": "3.8.5"
  }
 },
 "nbformat": 4,
 "nbformat_minor": 4
}